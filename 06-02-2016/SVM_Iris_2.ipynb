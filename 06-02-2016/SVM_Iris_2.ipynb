{
 "cells": [
  {
   "cell_type": "markdown",
   "metadata": {},
   "source": [
    "# Simple cross validation with SVM and Iris data"
   ]
  },
  {
   "cell_type": "code",
   "execution_count": 1,
   "metadata": {
    "collapsed": true
   },
   "outputs": [],
   "source": [
    "import pandas as pd\n",
    "from sklearn import svm\n",
    "from sklearn.pipeline import make_pipeline\n",
    "from sklearn import preprocessing\n",
    "from sklearn import cross_validation\n",
    "from sklearn.metrics import confusion_matrix\n",
    "import numpy as np\n",
    "import matplotlib\n",
    "import matplotlib.pyplot as plt\n",
    "%matplotlib inline"
   ]
  },
  {
   "cell_type": "code",
   "execution_count": 2,
   "metadata": {
    "collapsed": false
   },
   "outputs": [],
   "source": [
    "# Load data.\n",
    "def load_iris():\n",
    "    return pd.read_csv(\"iris.data\", names=[\"Sepal length\", \"Sepal width\", \"Petal length\", \"Petal width\", \"Species\"])\n",
    "    \n",
    "iris = load_iris()\n",
    "\n",
    "# Put away one row from each of target classes Iris-setosa, Iris-versicolor and Iris-viriginica.\n",
    "rows = [1, 50, 100]\n",
    "test = iris.loc[rows]\n",
    "iris = iris.drop(iris.index[rows])"
   ]
  },
  {
   "cell_type": "code",
   "execution_count": 3,
   "metadata": {
    "collapsed": false
   },
   "outputs": [],
   "source": [
    "# Preprocess data.\n",
    "def classname2number(df):\n",
    "    df.loc[df[\"Species\"] == \"Iris-setosa\",     [\"Species\"]] = 0\n",
    "    df.loc[df[\"Species\"] == \"Iris-versicolor\", [\"Species\"]] = 1\n",
    "    df.loc[df[\"Species\"] == \"Iris-virginica\",  [\"Species\"]] = 2\n",
    "\n",
    "classname2number(test)\n",
    "classname2number(iris)\n",
    "\n",
    "# Split dataset to features and target classes.\n",
    "X = iris[[\"Sepal length\", \"Sepal width\", \"Petal length\", \"Petal width\"]]\n",
    "y = iris[\"Species\"]"
   ]
  },
  {
   "cell_type": "code",
   "execution_count": 4,
   "metadata": {
    "collapsed": false
   },
   "outputs": [
    {
     "data": {
      "text/plain": [
       "Pipeline(steps=[('standardscaler', StandardScaler(copy=True, with_mean=True, with_std=True)), ('svc', SVC(C=1.0, cache_size=200, class_weight=None, coef0=0.0,\n",
       "  decision_function_shape=None, degree=3, gamma=2, kernel='linear',\n",
       "  max_iter=-1, probability=False, random_state=None, shrinking=True,\n",
       "  tol=0.001, verbose=False))])"
      ]
     },
     "execution_count": 4,
     "metadata": {},
     "output_type": "execute_result"
    }
   ],
   "source": [
    "# Train linear SVM. Multiclass classification is solved using one-vs-one method.\n",
    "# Note the StandardScaler.\n",
    "clf = make_pipeline(preprocessing.StandardScaler(), svm.SVC(kernel=\"linear\", C=1.0, gamma=2))\n",
    "clf.fit(X, y.tolist())"
   ]
  },
  {
   "cell_type": "code",
   "execution_count": 5,
   "metadata": {
    "collapsed": false
   },
   "outputs": [
    {
     "name": "stdout",
     "output_type": "stream",
     "text": [
      "0 0\n",
      "1 1\n",
      "2 2\n"
     ]
    }
   ],
   "source": [
    "# Predict using linear SVM model.\n",
    "# The prediction will be correct if model classify data as 0, 1 and 2.\n",
    "for r in test.iterrows():\n",
    "    X_tmp  = list(r[1])[0:4]\n",
    "    y_true = list(r[1])[-1]\n",
    "    \n",
    "    print clf.predict([X_tmp])[0], y_true"
   ]
  },
  {
   "cell_type": "code",
   "execution_count": 6,
   "metadata": {
    "collapsed": false
   },
   "outputs": [],
   "source": [
    "# The prediction was correct, but how good is our linear SVM model generally? \n",
    "\n",
    "# Load Iris data again.\n",
    "iris = load_iris()\n",
    "classname2number(iris)\n",
    "\n",
    "# http://stats.stackexchange.com/a/19051\n",
    "# Data should be always (if number of data allows) split to three chunks: \n",
    "# training data, validation data and test data. Preferably in ratio 50/25/25.\n",
    "\n",
    "# Shuffle data.\n",
    "np.random.seed(seed=1)\n",
    "iris_shuffle = iris.iloc[np.random.permutation(len(iris))]\n",
    "\n",
    "# Convert to numpy array.\n",
    "iris_array = np.array(iris_shuffle, dtype=np.float64)"
   ]
  },
  {
   "cell_type": "code",
   "execution_count": 7,
   "metadata": {
    "collapsed": false
   },
   "outputs": [],
   "source": [
    "# Split to test and train_val dataset.\n",
    "idx = np.int(np.ceil(0.25*len(iris)))\n",
    "\n",
    "test      = iris_array[1:idx,]\n",
    "train_val = iris_array[idx:,]"
   ]
  },
  {
   "cell_type": "code",
   "execution_count": 8,
   "metadata": {
    "collapsed": false
   },
   "outputs": [
    {
     "data": {
      "text/plain": [
       "array([ 1.        ,  0.96428571,  0.96296296,  0.96296296])"
      ]
     },
     "execution_count": 8,
     "metadata": {},
     "output_type": "execute_result"
    }
   ],
   "source": [
    "# Train SVM with various parameters using pipeline.\n",
    "# Returns array of scores of the estimator for each run of the cross validation.\n",
    "clf = make_pipeline(preprocessing.StandardScaler(), svm.SVC(kernel=\"linear\", C=1.0, gamma=2))\n",
    "cross_validation.cross_val_score(clf, train_val[:, 0:4], train_val[:,-1].tolist(), cv=4)"
   ]
  },
  {
   "cell_type": "code",
   "execution_count": 9,
   "metadata": {
    "collapsed": false
   },
   "outputs": [],
   "source": [
    "# After we are satisfied with result obtained from cross-validation, model can be applied on test data.\n",
    "clf.fit(train_val[:, 0:4], train_val[:,-1].tolist())\n",
    "\n",
    "# Predict.\n",
    "y_pred = clf.predict(test[:, 0:4])"
   ]
  },
  {
   "cell_type": "code",
   "execution_count": 10,
   "metadata": {
    "collapsed": false
   },
   "outputs": [
    {
     "data": {
      "image/png": "[encoded data removed]",
      "text/plain": [
       "<matplotlib.figure.Figure at 0x7fa76c240050>"
      ]
     },
     "metadata": {},
     "output_type": "display_data"
    }
   ],
   "source": [
    "# Confusion matrix.\n",
    "# http://scikit-learn.org/stable/auto_examples/model_selection/plot_confusion_matrix.html\n",
    "def plot_confusion_matrix(cm, title='Confusion matrix', cmap=plt.cm.Blues):\n",
    "    plt.imshow(cm, interpolation='nearest', cmap=cmap)\n",
    "    plt.title(title)\n",
    "    plt.colorbar()\n",
    "    tick_marks = np.arange(3)\n",
    "    plt.xticks(tick_marks, [\"Iris-setosa\", \"Iris-versicolor\", \"Iris-virginica\"], rotation=45)\n",
    "    plt.yticks(tick_marks, [\"Iris-setosa\", \"Iris-versicolor\", \"Iris-virginica\"])\n",
    "    plt.tight_layout()\n",
    "    plt.ylabel('True label')\n",
    "    plt.xlabel('Predicted label')\n",
    "\n",
    "y_test = test[:, -1]    \n",
    "cm = confusion_matrix(y_test, y_pred)\n",
    "plt.figure()\n",
    "plot_confusion_matrix(cm)"
   ]
  }
 ],
 "metadata": {
  "kernelspec": {
   "display_name": "Python 2",
   "language": "python",
   "name": "python2"
  },
  "language_info": {
   "codemirror_mode": {
    "name": "ipython",
    "version": 2
   },
   "file_extension": ".py",
   "mimetype": "text/x-python",
   "name": "python",
   "nbconvert_exporter": "python",
   "pygments_lexer": "ipython2",
   "version": "2.7.6"
  }
 },
 "nbformat": 4,
 "nbformat_minor": 0
}
